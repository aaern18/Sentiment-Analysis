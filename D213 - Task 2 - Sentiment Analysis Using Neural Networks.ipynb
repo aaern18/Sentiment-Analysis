{
 "cells": [
  {
   "cell_type": "markdown",
   "id": "23f5cf7e",
   "metadata": {},
   "source": [
    "***\n",
    "### Import required Libraries"
   ]
  },
  {
   "cell_type": "code",
   "execution_count": 1,
   "id": "6206655e",
   "metadata": {},
   "outputs": [
    {
     "name": "stdout",
     "output_type": "stream",
     "text": [
      " Python version used for this analysis is :  3.9.13\n"
     ]
    }
   ],
   "source": [
    "from platform import python_version\n",
    "print(\" Python version used for this analysis is : \", python_version())"
   ]
  },
  {
   "cell_type": "code",
   "execution_count": 2,
   "id": "9840c83a",
   "metadata": {},
   "outputs": [
    {
     "name": "stderr",
     "output_type": "stream",
     "text": [
      "[nltk_data] Downloading package punkt to\n",
      "[nltk_data]     C:\\Users\\Abhishek\\AppData\\Roaming\\nltk_data...\n",
      "[nltk_data]   Package punkt is already up-to-date!\n",
      "[nltk_data] Downloading package stopwords to\n",
      "[nltk_data]     C:\\Users\\Abhishek\\AppData\\Roaming\\nltk_data...\n",
      "[nltk_data]   Package stopwords is already up-to-date!\n"
     ]
    }
   ],
   "source": [
    "# Data processing\n",
    "import pandas as pd\n",
    "import numpy as np\n",
    "\n",
    "# Visualization \n",
    "import matplotlib.pyplot as plt\n",
    "import seaborn as sns\n",
    "\n",
    "# Pattern matching and text manipulation\n",
    "import re\n",
    "\n",
    "# train-test split\n",
    "from sklearn.model_selection import train_test_split\n",
    "\n",
    "# calculating the confusion matrix and other matrix\n",
    "from sklearn.metrics import confusion_matrix\n",
    "from sklearn.metrics import precision_score, recall_score, f1_score\n",
    "\n",
    "# building and training deep learning models\n",
    "import tensorflow as tf\n",
    "from tensorflow import keras\n",
    "from tensorflow.keras.preprocessing.text import Tokenizer\n",
    "from tensorflow.keras.preprocessing.sequence import pad_sequences\n",
    "from tensorflow.keras.models import Sequential\n",
    "from tensorflow.keras.callbacks import EarlyStopping\n",
    "from tensorflow.keras.layers import Embedding, LSTM, Dense, Dropout\n",
    "from tensorflow.keras.models import load_model\n",
    "\n",
    "# for natural language processing tasks\n",
    "import nltk\n",
    "from nltk.corpus import stopwords\n",
    "from nltk.tokenize import word_tokenize\n",
    "nltk.download('punkt')\n",
    "nltk.download('stopwords')\n",
    "\n",
    "# sets the display option to show all columns\n",
    "pd.set_option(\"display.max_columns\", None)\n",
    "\n",
    "# for warning \n",
    "import warnings\n",
    "warnings.filterwarnings(\"ignore\")"
   ]
  },
  {
   "cell_type": "code",
   "execution_count": 3,
   "id": "5c1df097",
   "metadata": {},
   "outputs": [
    {
     "data": {
      "text/plain": [
       "'2.12.0'"
      ]
     },
     "execution_count": 3,
     "metadata": {},
     "output_type": "execute_result"
    }
   ],
   "source": [
    "tf.__version__"
   ]
  },
  {
   "cell_type": "markdown",
   "id": "8b006dbe",
   "metadata": {},
   "source": [
    "**UCI Sentiment Labeled Sentences Data Set(Amazon)** :  https://archive.ics.uci.edu/ml/machine-learning-databases/00331/"
   ]
  },
  {
   "cell_type": "code",
   "execution_count": 4,
   "id": "16ea8441",
   "metadata": {},
   "outputs": [],
   "source": [
    "# Read the data from the text file and set the header\n",
    "path = r\"C:\\Users\\Abhishek\\Desktop\\D213\\Task 2\\sentiment labelled sentences\\amazon_cells_labelled.txt\"\n",
    "\n",
    "df_amazon = pd.read_csv(path, sep='\\t', header=None)\n",
    "\n",
    "# set the header \n",
    "df_amazon.columns = ['review', 'sentiment']"
   ]
  },
  {
   "cell_type": "code",
   "execution_count": 5,
   "id": "a2840c12",
   "metadata": {},
   "outputs": [
    {
     "data": {
      "text/html": [
       "<div>\n",
       "<style scoped>\n",
       "    .dataframe tbody tr th:only-of-type {\n",
       "        vertical-align: middle;\n",
       "    }\n",
       "\n",
       "    .dataframe tbody tr th {\n",
       "        vertical-align: top;\n",
       "    }\n",
       "\n",
       "    .dataframe thead th {\n",
       "        text-align: right;\n",
       "    }\n",
       "</style>\n",
       "<table border=\"1\" class=\"dataframe\">\n",
       "  <thead>\n",
       "    <tr style=\"text-align: right;\">\n",
       "      <th></th>\n",
       "      <th>review</th>\n",
       "      <th>sentiment</th>\n",
       "    </tr>\n",
       "  </thead>\n",
       "  <tbody>\n",
       "    <tr>\n",
       "      <th>0</th>\n",
       "      <td>So there is no way for me to plug it in here i...</td>\n",
       "      <td>0</td>\n",
       "    </tr>\n",
       "    <tr>\n",
       "      <th>1</th>\n",
       "      <td>Good case, Excellent value.</td>\n",
       "      <td>1</td>\n",
       "    </tr>\n",
       "    <tr>\n",
       "      <th>2</th>\n",
       "      <td>Great for the jawbone.</td>\n",
       "      <td>1</td>\n",
       "    </tr>\n",
       "    <tr>\n",
       "      <th>3</th>\n",
       "      <td>Tied to charger for conversations lasting more...</td>\n",
       "      <td>0</td>\n",
       "    </tr>\n",
       "    <tr>\n",
       "      <th>4</th>\n",
       "      <td>The mic is great.</td>\n",
       "      <td>1</td>\n",
       "    </tr>\n",
       "  </tbody>\n",
       "</table>\n",
       "</div>"
      ],
      "text/plain": [
       "                                              review  sentiment\n",
       "0  So there is no way for me to plug it in here i...          0\n",
       "1                        Good case, Excellent value.          1\n",
       "2                             Great for the jawbone.          1\n",
       "3  Tied to charger for conversations lasting more...          0\n",
       "4                                  The mic is great.          1"
      ]
     },
     "execution_count": 5,
     "metadata": {},
     "output_type": "execute_result"
    }
   ],
   "source": [
    "# display first 5 records\n",
    "df_amazon.head()"
   ]
  },
  {
   "cell_type": "code",
   "execution_count": 6,
   "id": "60f5ad37",
   "metadata": {},
   "outputs": [
    {
     "data": {
      "text/plain": [
       "(1000, 2)"
      ]
     },
     "execution_count": 6,
     "metadata": {},
     "output_type": "execute_result"
    }
   ],
   "source": [
    "#View the shape of the data\n",
    "df_amazon.shape"
   ]
  },
  {
   "cell_type": "code",
   "execution_count": 7,
   "id": "18b31006",
   "metadata": {},
   "outputs": [
    {
     "name": "stdout",
     "output_type": "stream",
     "text": [
      "<class 'pandas.core.frame.DataFrame'>\n",
      "RangeIndex: 1000 entries, 0 to 999\n",
      "Data columns (total 2 columns):\n",
      " #   Column     Non-Null Count  Dtype \n",
      "---  ------     --------------  ----- \n",
      " 0   review     1000 non-null   object\n",
      " 1   sentiment  1000 non-null   int64 \n",
      "dtypes: int64(1), object(1)\n",
      "memory usage: 15.8+ KB\n"
     ]
    }
   ],
   "source": [
    "df_amazon.info()"
   ]
  },
  {
   "cell_type": "code",
   "execution_count": 8,
   "id": "1ee7ebb8",
   "metadata": {},
   "outputs": [
    {
     "name": "stdout",
     "output_type": "stream",
     "text": [
      "Check for Nulls\n",
      "----------------------------------------------------------------------------------------------------\n",
      "review       False\n",
      "sentiment    False\n",
      "dtype: bool\n"
     ]
    }
   ],
   "source": [
    "# check for null \n",
    "print(\"Check for Nulls\")\n",
    "print(\"-\"*100)\n",
    "print(df_amazon.isnull().any())"
   ]
  },
  {
   "cell_type": "code",
   "execution_count": 9,
   "id": "b6d78b94",
   "metadata": {},
   "outputs": [
    {
     "name": "stdout",
     "output_type": "stream",
     "text": [
      "Check for Missing Values\n",
      "----------------------------------------------------------------------------------------------------\n",
      "review       False\n",
      "sentiment    False\n",
      "dtype: bool\n"
     ]
    }
   ],
   "source": [
    "# check for missing values\n",
    "print(\"Check for Missing Values\")\n",
    "print(\"-\"*100)\n",
    "print(df_amazon.isna().any())"
   ]
  },
  {
   "cell_type": "code",
   "execution_count": 10,
   "id": "0166a313",
   "metadata": {},
   "outputs": [
    {
     "data": {
      "image/png": "[encoded data removed]",
      "text/plain": [
       "<Figure size 640x480 with 1 Axes>"
      ]
     },
     "metadata": {},
     "output_type": "display_data"
    }
   ],
   "source": [
    "# Group the data by the binary label column\n",
    "grouped_data = df_amazon.groupby('sentiment')\n",
    "\n",
    "group_counts = grouped_data.size()\n",
    "\n",
    "# Plotting the group distribution\n",
    "plt.bar(group_counts.index, group_counts.values)\n",
    "plt.xlabel('sentiment')\n",
    "plt.ylabel('Review Count')\n",
    "plt.title('Total review by score')\n",
    "plt.xticks([0, 1])                               # Set the x-ticks to only show 0 and 1\n",
    "plt.show()"
   ]
  },
  {
   "cell_type": "markdown",
   "id": "1c509b68",
   "metadata": {},
   "source": [
    "**Result : Dataset has same number of positive and negative sentiments.** "
   ]
  },
  {
   "cell_type": "code",
   "execution_count": 11,
   "id": "ec9b1622",
   "metadata": {},
   "outputs": [
    {
     "data": {
      "text/html": [
       "<div>\n",
       "<style scoped>\n",
       "    .dataframe tbody tr th:only-of-type {\n",
       "        vertical-align: middle;\n",
       "    }\n",
       "\n",
       "    .dataframe tbody tr th {\n",
       "        vertical-align: top;\n",
       "    }\n",
       "\n",
       "    .dataframe thead th {\n",
       "        text-align: right;\n",
       "    }\n",
       "</style>\n",
       "<table border=\"1\" class=\"dataframe\">\n",
       "  <thead>\n",
       "    <tr style=\"text-align: right;\">\n",
       "      <th></th>\n",
       "      <th>review</th>\n",
       "    </tr>\n",
       "  </thead>\n",
       "  <tbody>\n",
       "    <tr>\n",
       "      <th>0</th>\n",
       "      <td>So there is no way for me to plug it in here i...</td>\n",
       "    </tr>\n",
       "    <tr>\n",
       "      <th>1</th>\n",
       "      <td>Good case, Excellent value.</td>\n",
       "    </tr>\n",
       "    <tr>\n",
       "      <th>2</th>\n",
       "      <td>Great for the jawbone.</td>\n",
       "    </tr>\n",
       "    <tr>\n",
       "      <th>3</th>\n",
       "      <td>Tied to charger for conversations lasting more...</td>\n",
       "    </tr>\n",
       "    <tr>\n",
       "      <th>4</th>\n",
       "      <td>The mic is great.</td>\n",
       "    </tr>\n",
       "  </tbody>\n",
       "</table>\n",
       "</div>"
      ],
      "text/plain": [
       "                                              review\n",
       "0  So there is no way for me to plug it in here i...\n",
       "1                        Good case, Excellent value.\n",
       "2                             Great for the jawbone.\n",
       "3  Tied to charger for conversations lasting more...\n",
       "4                                  The mic is great."
      ]
     },
     "execution_count": 11,
     "metadata": {},
     "output_type": "execute_result"
    }
   ],
   "source": [
    "## Get the Independent Features\n",
    "X=df_amazon.drop('sentiment',axis=1)\n",
    "X.head()"
   ]
  },
  {
   "cell_type": "code",
   "execution_count": 12,
   "id": "a7310d7b",
   "metadata": {},
   "outputs": [
    {
     "data": {
      "text/plain": [
       "0    0\n",
       "1    1\n",
       "2    1\n",
       "3    0\n",
       "4    1\n",
       "Name: sentiment, dtype: int64"
      ]
     },
     "execution_count": 12,
     "metadata": {},
     "output_type": "execute_result"
    }
   ],
   "source": [
    "## Get the Dependent features\n",
    "y=df_amazon['sentiment']\n",
    "y.head()"
   ]
  },
  {
   "cell_type": "code",
   "execution_count": 13,
   "id": "a0e1b0e4",
   "metadata": {},
   "outputs": [
    {
     "data": {
      "text/plain": [
       "((1000, 1), (1000,))"
      ]
     },
     "execution_count": 13,
     "metadata": {},
     "output_type": "execute_result"
    }
   ],
   "source": [
    "# display the shape of X and y\n",
    "X.shape, y.shape"
   ]
  },
  {
   "cell_type": "markdown",
   "id": "be02c690",
   "metadata": {},
   "source": [
    "### Remove the specal and unusual characters from the text column"
   ]
  },
  {
   "cell_type": "code",
   "execution_count": 14,
   "id": "14483535",
   "metadata": {},
   "outputs": [],
   "source": [
    "# Function to remove special characters and convert to lowercase\n",
    "def clean_text(text):\n",
    "    # Remove special characters using regex\n",
    "    #cleaned_text = re.sub(r'[^a-zA-Z0-9\\s]', '', text)\n",
    "    cleaned_text = re.sub(r'[^a-zA-Z\\s]', '', text)\n",
    "    # Convert to lowercase\n",
    "    cleaned_text = cleaned_text.lower()\n",
    "    return cleaned_text"
   ]
  },
  {
   "cell_type": "code",
   "execution_count": 15,
   "id": "fe2b159a",
   "metadata": {},
   "outputs": [],
   "source": [
    "# Apply the clean_text function to the 'review' column\n",
    "X['review'] = X['review'].apply(lambda x: clean_text(x))"
   ]
  },
  {
   "cell_type": "code",
   "execution_count": 16,
   "id": "e7c0414e",
   "metadata": {},
   "outputs": [
    {
     "data": {
      "text/html": [
       "<div>\n",
       "<style scoped>\n",
       "    .dataframe tbody tr th:only-of-type {\n",
       "        vertical-align: middle;\n",
       "    }\n",
       "\n",
       "    .dataframe tbody tr th {\n",
       "        vertical-align: top;\n",
       "    }\n",
       "\n",
       "    .dataframe thead th {\n",
       "        text-align: right;\n",
       "    }\n",
       "</style>\n",
       "<table border=\"1\" class=\"dataframe\">\n",
       "  <thead>\n",
       "    <tr style=\"text-align: right;\">\n",
       "      <th></th>\n",
       "      <th>review</th>\n",
       "    </tr>\n",
       "  </thead>\n",
       "  <tbody>\n",
       "    <tr>\n",
       "      <th>0</th>\n",
       "      <td>so there is no way for me to plug it in here i...</td>\n",
       "    </tr>\n",
       "    <tr>\n",
       "      <th>1</th>\n",
       "      <td>good case excellent value</td>\n",
       "    </tr>\n",
       "    <tr>\n",
       "      <th>2</th>\n",
       "      <td>great for the jawbone</td>\n",
       "    </tr>\n",
       "    <tr>\n",
       "      <th>3</th>\n",
       "      <td>tied to charger for conversations lasting more...</td>\n",
       "    </tr>\n",
       "    <tr>\n",
       "      <th>4</th>\n",
       "      <td>the mic is great</td>\n",
       "    </tr>\n",
       "  </tbody>\n",
       "</table>\n",
       "</div>"
      ],
      "text/plain": [
       "                                              review\n",
       "0  so there is no way for me to plug it in here i...\n",
       "1                          good case excellent value\n",
       "2                              great for the jawbone\n",
       "3  tied to charger for conversations lasting more...\n",
       "4                                   the mic is great"
      ]
     },
     "execution_count": 16,
     "metadata": {},
     "output_type": "execute_result"
    }
   ],
   "source": [
    "X.head()"
   ]
  },
  {
   "cell_type": "markdown",
   "id": "ac4f9b22",
   "metadata": {},
   "source": [
    "### Tokenization \n",
    "\n",
    "breaking text into individual tokens or units. "
   ]
  },
  {
   "cell_type": "code",
   "execution_count": 17,
   "id": "2de62fae",
   "metadata": {},
   "outputs": [],
   "source": [
    "# Tokenize the 'review' column\n",
    "X['review'] = X['review'].apply(word_tokenize)"
   ]
  },
  {
   "cell_type": "code",
   "execution_count": 18,
   "id": "70e375c9",
   "metadata": {},
   "outputs": [
    {
     "data": {
      "text/html": [
       "<div>\n",
       "<style scoped>\n",
       "    .dataframe tbody tr th:only-of-type {\n",
       "        vertical-align: middle;\n",
       "    }\n",
       "\n",
       "    .dataframe tbody tr th {\n",
       "        vertical-align: top;\n",
       "    }\n",
       "\n",
       "    .dataframe thead th {\n",
       "        text-align: right;\n",
       "    }\n",
       "</style>\n",
       "<table border=\"1\" class=\"dataframe\">\n",
       "  <thead>\n",
       "    <tr style=\"text-align: right;\">\n",
       "      <th></th>\n",
       "      <th>review</th>\n",
       "    </tr>\n",
       "  </thead>\n",
       "  <tbody>\n",
       "    <tr>\n",
       "      <th>0</th>\n",
       "      <td>[so, there, is, no, way, for, me, to, plug, it...</td>\n",
       "    </tr>\n",
       "    <tr>\n",
       "      <th>1</th>\n",
       "      <td>[good, case, excellent, value]</td>\n",
       "    </tr>\n",
       "    <tr>\n",
       "      <th>2</th>\n",
       "      <td>[great, for, the, jawbone]</td>\n",
       "    </tr>\n",
       "    <tr>\n",
       "      <th>3</th>\n",
       "      <td>[tied, to, charger, for, conversations, lastin...</td>\n",
       "    </tr>\n",
       "    <tr>\n",
       "      <th>4</th>\n",
       "      <td>[the, mic, is, great]</td>\n",
       "    </tr>\n",
       "  </tbody>\n",
       "</table>\n",
       "</div>"
      ],
      "text/plain": [
       "                                              review\n",
       "0  [so, there, is, no, way, for, me, to, plug, it...\n",
       "1                     [good, case, excellent, value]\n",
       "2                         [great, for, the, jawbone]\n",
       "3  [tied, to, charger, for, conversations, lastin...\n",
       "4                              [the, mic, is, great]"
      ]
     },
     "execution_count": 18,
     "metadata": {},
     "output_type": "execute_result"
    }
   ],
   "source": [
    "X.head()"
   ]
  },
  {
   "cell_type": "markdown",
   "id": "daee396e",
   "metadata": {},
   "source": [
    "### Remove the stopwords\n",
    "\n",
    "Removing the stop words and excluding the negating words"
   ]
  },
  {
   "cell_type": "code",
   "execution_count": 19,
   "id": "25e518e8",
   "metadata": {},
   "outputs": [],
   "source": [
    "# Remove most stop words\n",
    "stop_words = set(stopwords.words('english'))  # Set the language to 'english'"
   ]
  },
  {
   "cell_type": "code",
   "execution_count": 20,
   "id": "8d52c03e",
   "metadata": {},
   "outputs": [],
   "source": [
    "# Define the negating words to keep\n",
    "negating_words = ['not', 'no', 'never', 'none', 'neither', 'nor', 'cannot', \"can't\", \"won't\", \"don't\", 'but'\n",
    "                  \"doesn't\", \"isn't\", \"wasn't\", \"weren't\", \"hasn't\", \"haven't\", \"hadn't\", \"wouldn't\", \"shouldn't\", \"couldn't\"\n",
    "                ]"
   ]
  },
  {
   "cell_type": "code",
   "execution_count": 21,
   "id": "bd3f78cd",
   "metadata": {},
   "outputs": [],
   "source": [
    "# Remove stop words excluding negating words\n",
    "filtered_X = X['review'].apply(lambda tokens: [word for word in tokens if word not in stop_words or word in negating_words])\n",
    "\n",
    "# Update the origional X review column with the filtered tokens\n",
    "X['review'] = filtered_X"
   ]
  },
  {
   "cell_type": "code",
   "execution_count": 22,
   "id": "1303c16a",
   "metadata": {},
   "outputs": [
    {
     "data": {
      "text/plain": [
       "0             [no, way, plug, us, unless, go, converter]\n",
       "1                         [good, case, excellent, value]\n",
       "2                                       [great, jawbone]\n",
       "3      [tied, charger, conversations, lasting, minute...\n",
       "4                                           [mic, great]\n",
       "                             ...                        \n",
       "995    [screen, get, smudged, easily, touches, ear, f...\n",
       "996                    [piece, junk, lose, calls, phone]\n",
       "997                          [item, not, match, picture]\n",
       "998          [thing, disappoint, infra, red, port, irda]\n",
       "999            [not, answer, calls, unit, never, worked]\n",
       "Name: review, Length: 1000, dtype: object"
      ]
     },
     "execution_count": 22,
     "metadata": {},
     "output_type": "execute_result"
    }
   ],
   "source": [
    "X['review']"
   ]
  },
  {
   "cell_type": "markdown",
   "id": "c663f29e",
   "metadata": {},
   "source": [
    "### Vocabulary size"
   ]
  },
  {
   "cell_type": "code",
   "execution_count": 23,
   "id": "2c9503a4",
   "metadata": {},
   "outputs": [
    {
     "name": "stdout",
     "output_type": "stream",
     "text": [
      "Vocabulary Size: 1750\n"
     ]
    }
   ],
   "source": [
    "# copy\n",
    "reviews = X['review']\n",
    "\n",
    "# Combine all reviews into a single list\n",
    "all_tokens = [token for review in reviews for token in review]\n",
    "\n",
    "# Calculate the vocabulary size\n",
    "vocabulary_size = len(set(all_tokens))\n",
    "\n",
    "print(\"Vocabulary Size:\", vocabulary_size)"
   ]
  },
  {
   "cell_type": "markdown",
   "id": "64a573a4",
   "metadata": {},
   "source": [
    "### Proposed word embedding length"
   ]
  },
  {
   "cell_type": "markdown",
   "id": "19837ba5",
   "metadata": {},
   "source": [
    "**References** - https://medium.com/@b.terryjack/nlp-everything-about-word-embeddings-9ea21f51ccfe"
   ]
  },
  {
   "cell_type": "code",
   "execution_count": 24,
   "id": "abf38ae5",
   "metadata": {},
   "outputs": [
    {
     "name": "stdout",
     "output_type": "stream",
     "text": [
      "Embedding length: 36\n"
     ]
    }
   ],
   "source": [
    "# Calculate dataset size\n",
    "dataset_size = len(X['review'])  # Number of samples in your dataset\n",
    "\n",
    "# Calculate the proposed word embedding length\n",
    "embedding_length = min(50, int(vocabulary_size ** 0.25 * dataset_size ** 0.25))\n",
    "\n",
    "print(\"Embedding length:\", embedding_length)"
   ]
  },
  {
   "cell_type": "markdown",
   "id": "68121ac3",
   "metadata": {},
   "source": [
    "### Maximum sequence length"
   ]
  },
  {
   "cell_type": "code",
   "execution_count": 25,
   "id": "d2683420",
   "metadata": {},
   "outputs": [
    {
     "name": "stdout",
     "output_type": "stream",
     "text": [
      "Maximum Sequence Length: 16\n"
     ]
    }
   ],
   "source": [
    "# Calculate the maximum sequence length\n",
    "line_num_words = [len(t_line) for t_line in X['review']]\n",
    "\n",
    "max_sequence_length = max(line_num_words)\n",
    "\n",
    "print(\"Maximum Sequence Length:\", max_sequence_length)"
   ]
  },
  {
   "cell_type": "code",
   "execution_count": 26,
   "id": "5444e5e9",
   "metadata": {},
   "outputs": [
    {
     "data": {
      "image/png": "[encoded data removed]",
      "text/plain": [
       "<Figure size 600x400 with 1 Axes>"
      ]
     },
     "metadata": {},
     "output_type": "display_data"
    }
   ],
   "source": [
    "# Visualization \n",
    "plt.figure(figsize=(6, 4))\n",
    "plt.hist(line_num_words)\n",
    "plt.xlabel('Number of Character')\n",
    "plt.ylabel('Frequency of review')\n",
    "plt.title('Length of review')\n",
    "plt.tight_layout()\n",
    "plt.show()"
   ]
  },
  {
   "cell_type": "markdown",
   "id": "c391b720",
   "metadata": {},
   "source": [
    "#### Result - From this graph I can see that the max length of the review is around 16 character"
   ]
  },
  {
   "cell_type": "markdown",
   "id": "3267f7be",
   "metadata": {},
   "source": [
    "### Vectorization "
   ]
  },
  {
   "cell_type": "code",
   "execution_count": 27,
   "id": "698750df",
   "metadata": {},
   "outputs": [],
   "source": [
    "# Create a tokenizer and fit it on the text data\n",
    "tokenizer = Tokenizer()\n",
    "tokenizer.fit_on_texts(X['review'])\n",
    "\n",
    "# Convert the text data to sequences\n",
    "sequences = tokenizer.texts_to_sequences(X['review'])\n",
    "word_index = tokenizer.word_index"
   ]
  },
  {
   "cell_type": "code",
   "execution_count": 28,
   "id": "e14e5bc7",
   "metadata": {},
   "outputs": [
    {
     "data": {
      "text/plain": [
       "([24, 136, 86, 436, 437, 155, 685],\n",
       " [868, 128, 869, 870, 497, 871, 457, 331, 46, 872, 27, 371])"
      ]
     },
     "execution_count": 28,
     "metadata": {},
     "output_type": "execute_result"
    }
   ],
   "source": [
    "# display the sequence of some random index\n",
    "sequences[0], sequences[189]"
   ]
  },
  {
   "cell_type": "code",
   "execution_count": 29,
   "id": "e5aac828",
   "metadata": {},
   "outputs": [
    {
     "data": {
      "text/plain": [
       "1750"
      ]
     },
     "execution_count": 29,
     "metadata": {},
     "output_type": "execute_result"
    }
   ],
   "source": [
    "len(word_index)"
   ]
  },
  {
   "cell_type": "markdown",
   "id": "2c030664",
   "metadata": {},
   "source": [
    "### Padding "
   ]
  },
  {
   "cell_type": "code",
   "execution_count": 30,
   "id": "007439ef",
   "metadata": {},
   "outputs": [],
   "source": [
    "# Pad sequences to ensure consistent length\n",
    "max_sequence_length = max([len(seq) for seq in sequences])\n",
    "padded_sequences = pad_sequences(sequences, maxlen=max_sequence_length)"
   ]
  },
  {
   "cell_type": "code",
   "execution_count": 31,
   "id": "114cd1a4",
   "metadata": {},
   "outputs": [
    {
     "data": {
      "text/plain": [
       "array([  0,   0,   0,   0,   0,   0,   0,   0,   0,  24, 136,  86, 436,\n",
       "       437, 155, 685])"
      ]
     },
     "execution_count": 31,
     "metadata": {},
     "output_type": "execute_result"
    }
   ],
   "source": [
    "padded_sequences[0]"
   ]
  },
  {
   "cell_type": "code",
   "execution_count": 32,
   "id": "419a9f5b",
   "metadata": {},
   "outputs": [
    {
     "data": {
      "text/plain": [
       "array([   0,    0,    0,    0,    0,    0,   27, 1329,    4,    6,   42,\n",
       "         36,  379,    2,   83,  642])"
      ]
     },
     "execution_count": 32,
     "metadata": {},
     "output_type": "execute_result"
    }
   ],
   "source": [
    "padded_sequences[635]"
   ]
  },
  {
   "cell_type": "code",
   "execution_count": 33,
   "id": "18f85ee3",
   "metadata": {},
   "outputs": [
    {
     "data": {
      "text/plain": [
       "(1000, 16)"
      ]
     },
     "execution_count": 33,
     "metadata": {},
     "output_type": "execute_result"
    }
   ],
   "source": [
    "padded_sequences.shape"
   ]
  },
  {
   "cell_type": "code",
   "execution_count": 34,
   "id": "9d80c2dc",
   "metadata": {},
   "outputs": [],
   "source": [
    "# store X and y values as array \n",
    "X_final = np.array(padded_sequences)\n",
    "y_final = np.array(y)"
   ]
  },
  {
   "cell_type": "code",
   "execution_count": 35,
   "id": "73c03a4b",
   "metadata": {},
   "outputs": [
    {
     "data": {
      "text/plain": [
       "array([[   0,    0,    0, ...,  437,  155,  685],\n",
       "       [   0,    0,    0, ...,   19,   21,  182],\n",
       "       [   0,    0,    0, ...,    0,    3,  314],\n",
       "       ...,\n",
       "       [   0,    0,    0, ...,    2,  346,  160],\n",
       "       [   0,    0,    0, ...,  641, 1748, 1749],\n",
       "       [   0,    0,    0, ...,  134,  119,   35]])"
      ]
     },
     "execution_count": 35,
     "metadata": {},
     "output_type": "execute_result"
    }
   ],
   "source": [
    "X_final"
   ]
  },
  {
   "cell_type": "code",
   "execution_count": 36,
   "id": "27204620",
   "metadata": {},
   "outputs": [
    {
     "data": {
      "text/plain": [
       "array([0, 1, 1, 0, 1, 0, 0, 1, 0, 0, 1, 1, 0, 1, 0, 1, 0, 1, 1, 0, 0, 1,\n",
       "       0, 1, 0, 1, 1, 0, 0, 0, 0, 1, 0, 0, 1, 0, 1, 0, 1, 0, 1, 0, 1, 0,\n",
       "       1, 1, 0, 0, 1, 0, 0, 1, 1, 1, 1, 1, 0, 1, 1, 0, 0, 1, 1, 0, 0, 0,\n",
       "       0, 1, 1, 1, 0, 0, 1, 1, 1, 1, 0, 1, 1, 0, 1, 0, 1, 0, 0, 1, 1, 0,\n",
       "       1, 1, 0, 1, 1, 0, 0, 1, 0, 0, 1, 0, 1, 0, 1, 1, 0, 1, 0, 1, 0, 0,\n",
       "       1, 1, 1, 1, 1, 1, 0, 1, 1, 1, 1, 0, 1, 0, 1, 1, 0, 0, 1, 0, 1, 1,\n",
       "       1, 1, 0, 0, 1, 1, 0, 1, 0, 0, 0, 0, 0, 1, 0, 0, 0, 0, 0, 0, 1, 1,\n",
       "       0, 1, 1, 1, 1, 1, 0, 1, 0, 1, 0, 1, 0, 1, 0, 0, 1, 0, 0, 1, 1, 1,\n",
       "       1, 0, 0, 0, 0, 0, 1, 0, 0, 1, 0, 1, 0, 0, 0, 1, 1, 0, 0, 1, 1, 0,\n",
       "       0, 0, 1, 1, 0, 1, 0, 1, 1, 1, 1, 0, 0, 0, 1, 1, 1, 1, 1, 0, 0, 1,\n",
       "       0, 0, 1, 0, 0, 1, 1, 0, 0, 0, 0, 0, 0, 1, 1, 1, 1, 1, 1, 0, 0, 0,\n",
       "       0, 0, 0, 1, 1, 1, 0, 1, 1, 1, 1, 1, 0, 0, 0, 1, 1, 1, 1, 1, 1, 0,\n",
       "       0, 1, 0, 1, 0, 1, 0, 1, 0, 1, 0, 1, 0, 1, 1, 1, 1, 1, 0, 1, 1, 1,\n",
       "       0, 0, 0, 1, 1, 0, 1, 0, 1, 1, 1, 1, 0, 0, 0, 1, 1, 1, 1, 1, 1, 0,\n",
       "       0, 0, 1, 0, 1, 1, 0, 0, 1, 1, 0, 1, 1, 0, 0, 1, 0, 1, 0, 0, 0, 0,\n",
       "       1, 1, 1, 1, 1, 0, 0, 0, 0, 0, 1, 0, 0, 1, 0, 1, 0, 1, 1, 0, 0, 1,\n",
       "       1, 0, 0, 0, 0, 0, 0, 1, 1, 0, 1, 0, 1, 1, 0, 1, 1, 1, 0, 1, 1, 0,\n",
       "       0, 0, 1, 0, 1, 0, 1, 1, 0, 1, 1, 0, 0, 1, 1, 1, 1, 0, 1, 1, 1, 1,\n",
       "       0, 1, 1, 0, 0, 1, 1, 1, 0, 1, 0, 1, 1, 0, 0, 1, 1, 0, 0, 1, 1, 0,\n",
       "       0, 0, 1, 0, 0, 1, 0, 1, 1, 0, 1, 1, 1, 1, 0, 1, 1, 0, 0, 1, 0, 0,\n",
       "       0, 0, 0, 1, 1, 1, 0, 1, 1, 0, 1, 1, 1, 0, 0, 0, 1, 1, 1, 0, 0, 1,\n",
       "       0, 0, 0, 1, 0, 0, 0, 1, 1, 0, 0, 1, 1, 1, 0, 0, 1, 0, 1, 0, 1, 1,\n",
       "       1, 0, 0, 0, 0, 0, 1, 1, 1, 1, 0, 0, 1, 0, 0, 1, 1, 1, 0, 0, 1, 0,\n",
       "       0, 0, 1, 0, 1, 0, 1, 1, 1, 1, 1, 1, 1, 0, 0, 1, 1, 1, 1, 0, 0, 1,\n",
       "       0, 1, 1, 0, 0, 0, 1, 0, 1, 1, 1, 0, 1, 0, 0, 0, 0, 1, 0, 0, 0, 1,\n",
       "       1, 1, 1, 1, 0, 0, 1, 1, 1, 0, 0, 0, 1, 0, 0, 0, 0, 1, 1, 0, 0, 1,\n",
       "       0, 1, 1, 0, 0, 0, 1, 0, 1, 0, 0, 1, 1, 0, 1, 0, 0, 0, 0, 1, 1, 1,\n",
       "       1, 0, 0, 1, 1, 1, 1, 0, 1, 1, 0, 0, 1, 0, 0, 1, 0, 1, 1, 1, 0, 0,\n",
       "       0, 0, 0, 1, 0, 0, 1, 0, 1, 0, 0, 0, 0, 1, 0, 1, 1, 0, 1, 1, 1, 0,\n",
       "       1, 0, 0, 1, 0, 1, 0, 0, 1, 1, 0, 1, 0, 1, 0, 0, 0, 1, 0, 1, 0, 0,\n",
       "       0, 1, 1, 1, 1, 0, 1, 0, 1, 1, 0, 0, 0, 1, 0, 0, 0, 0, 1, 1, 0, 0,\n",
       "       0, 1, 0, 1, 0, 0, 0, 1, 0, 1, 1, 0, 0, 0, 1, 0, 1, 1, 0, 1, 1, 1,\n",
       "       0, 1, 0, 1, 0, 1, 0, 0, 0, 1, 0, 0, 1, 0, 1, 0, 1, 1, 1, 0, 1, 1,\n",
       "       1, 1, 1, 0, 1, 0, 1, 1, 0, 1, 1, 1, 1, 1, 1, 0, 0, 0, 0, 1, 0, 1,\n",
       "       0, 1, 1, 0, 1, 1, 0, 0, 1, 0, 1, 1, 0, 1, 1, 0, 0, 0, 0, 0, 1, 1,\n",
       "       0, 0, 0, 1, 1, 1, 1, 1, 1, 0, 0, 0, 0, 0, 0, 0, 0, 1, 1, 0, 0, 1,\n",
       "       1, 1, 0, 1, 1, 1, 0, 0, 1, 1, 1, 0, 1, 0, 0, 1, 1, 1, 0, 1, 1, 1,\n",
       "       0, 0, 1, 1, 0, 1, 1, 1, 1, 1, 0, 1, 0, 1, 0, 1, 0, 0, 0, 0, 0, 0,\n",
       "       0, 0, 0, 0, 0, 0, 0, 0, 0, 0, 0, 0, 0, 0, 1, 1, 1, 0, 1, 0, 0, 1,\n",
       "       0, 0, 0, 0, 1, 1, 1, 1, 1, 1, 0, 1, 1, 1, 1, 1, 1, 0, 1, 1, 0, 1,\n",
       "       0, 0, 1, 0, 1, 0, 0, 1, 0, 1, 0, 1, 1, 0, 0, 1, 1, 0, 0, 1, 0, 0,\n",
       "       1, 1, 0, 0, 1, 0, 1, 1, 1, 1, 0, 0, 0, 0, 0, 1, 1, 0, 1, 0, 1, 1,\n",
       "       1, 1, 0, 1, 0, 0, 0, 0, 0, 0, 1, 0, 0, 1, 1, 1, 1, 1, 0, 0, 0, 1,\n",
       "       1, 1, 1, 0, 1, 0, 1, 0, 1, 0, 1, 1, 1, 0, 1, 1, 1, 1, 1, 0, 0, 1,\n",
       "       0, 0, 0, 1, 0, 0, 0, 1, 1, 1, 1, 0, 0, 0, 0, 0, 0, 0, 0, 0, 0, 0,\n",
       "       0, 0, 0, 0, 0, 0, 0, 0, 0, 0], dtype=int64)"
      ]
     },
     "execution_count": 36,
     "metadata": {},
     "output_type": "execute_result"
    }
   ],
   "source": [
    "y_final"
   ]
  },
  {
   "cell_type": "code",
   "execution_count": 37,
   "id": "6428b885",
   "metadata": {},
   "outputs": [
    {
     "data": {
      "text/plain": [
       "((1000, 16), (1000,))"
      ]
     },
     "execution_count": 37,
     "metadata": {},
     "output_type": "execute_result"
    }
   ],
   "source": [
    "X_final.shape, y_final.shape"
   ]
  },
  {
   "cell_type": "markdown",
   "id": "ecb4e10b",
   "metadata": {},
   "source": [
    "### Splitting the data"
   ]
  },
  {
   "cell_type": "code",
   "execution_count": 38,
   "id": "9c4d37d3",
   "metadata": {},
   "outputs": [],
   "source": [
    "# Split the data into train, test, and validation sets\n",
    "X_train, X_test, y_train, y_test = train_test_split(X_final,y_final, test_size=0.2, random_state=42)\n",
    "\n",
    "# Split the train data to train and validation sets\n",
    "X_train, X_val, y_train, y_val = train_test_split(X_train, y_train, test_size=0.25, random_state=42)"
   ]
  },
  {
   "cell_type": "code",
   "execution_count": 39,
   "id": "10350b28",
   "metadata": {},
   "outputs": [
    {
     "data": {
      "text/plain": [
       "array([[   0,    0,    0, ...,   21, 1617,    7],\n",
       "       [   0,    0,    0, ...,   28,  567,  568],\n",
       "       [   0,    0,    0, ..., 1033,  349,  105],\n",
       "       ...,\n",
       "       [   0,    0,    0, ...,   26,   59,   29],\n",
       "       [   0,    0,    0, ...,   44,  531,  244],\n",
       "       [   0,    0,    0, ...,  605,   16,    3]])"
      ]
     },
     "execution_count": 39,
     "metadata": {},
     "output_type": "execute_result"
    }
   ],
   "source": [
    "X_train"
   ]
  },
  {
   "cell_type": "code",
   "execution_count": 40,
   "id": "e7517636",
   "metadata": {},
   "outputs": [
    {
     "data": {
      "text/plain": [
       "array([1, 0, 1, 0, 0, 1, 1, 0, 0, 0, 0, 1, 0, 0, 0, 0, 0, 0, 0, 0, 0, 0,\n",
       "       0, 1, 0, 0, 1, 0, 1, 1, 1, 1, 1, 1, 1, 1, 0, 1, 1, 1, 1, 1, 0, 1,\n",
       "       0, 1, 1, 1, 0, 1, 1, 1, 1, 0, 0, 1, 1, 1, 1, 1, 0, 1, 0, 0, 0, 0,\n",
       "       0, 0, 1, 0, 1, 1, 0, 1, 1, 1, 0, 1, 1, 0, 1, 0, 0, 0, 1, 1, 0, 1,\n",
       "       1, 0, 0, 1, 1, 1, 1, 1, 1, 0, 1, 1, 1, 0, 1, 0, 0, 1, 1, 0, 1, 0,\n",
       "       1, 0, 1, 0, 1, 1, 1, 1, 1, 1, 1, 1, 1, 0, 1, 1, 1, 0, 0, 1, 1, 1,\n",
       "       1, 1, 1, 1, 0, 0, 1, 1, 0, 1, 0, 1, 0, 0, 1, 0, 1, 0, 1, 0, 1, 0,\n",
       "       0, 0, 0, 1, 0, 0, 1, 0, 1, 1, 0, 1, 1, 0, 0, 1, 0, 1, 0, 0, 0, 0,\n",
       "       0, 0, 1, 0, 0, 0, 1, 1, 1, 1, 0, 0, 1, 1, 0, 0, 0, 0, 0, 0, 0, 1,\n",
       "       1, 1, 1, 0, 1, 1, 1, 0, 1, 1, 0, 0, 0, 0, 0, 1, 0, 1, 1, 1, 1, 1,\n",
       "       0, 0, 1, 1, 1, 1, 1, 0, 1, 1, 0, 1, 1, 1, 0, 0, 0, 0, 0, 1, 0, 0,\n",
       "       0, 1, 0, 1, 0, 1, 1, 0, 1, 1, 1, 0, 1, 1, 1, 0, 1, 1, 0, 0, 0, 1,\n",
       "       0, 0, 0, 0, 1, 1, 0, 1, 0, 1, 0, 1, 0, 0, 1, 1, 1, 0, 0, 1, 0, 1,\n",
       "       0, 0, 0, 1, 0, 0, 0, 0, 1, 1, 0, 0, 1, 0, 1, 0, 1, 1, 0, 0, 0, 0,\n",
       "       0, 0, 1, 1, 0, 0, 0, 0, 0, 0, 1, 1, 0, 1, 1, 0, 0, 1, 1, 0, 0, 1,\n",
       "       0, 1, 0, 0, 1, 1, 0, 0, 0, 0, 1, 1, 1, 1, 1, 1, 0, 0, 0, 1, 1, 1,\n",
       "       0, 0, 0, 0, 0, 1, 1, 0, 0, 0, 1, 1, 1, 1, 0, 0, 1, 1, 0, 0, 0, 1,\n",
       "       1, 1, 1, 1, 0, 1, 1, 1, 0, 1, 1, 0, 1, 1, 1, 0, 1, 1, 1, 1, 1, 0,\n",
       "       1, 0, 1, 0, 1, 0, 0, 0, 1, 1, 0, 0, 1, 1, 1, 1, 0, 0, 1, 0, 0, 0,\n",
       "       0, 0, 1, 0, 1, 0, 0, 0, 0, 0, 0, 1, 1, 0, 1, 1, 1, 0, 0, 1, 0, 1,\n",
       "       1, 0, 1, 0, 1, 1, 0, 1, 0, 0, 0, 0, 0, 1, 0, 0, 0, 1, 1, 0, 0, 1,\n",
       "       0, 0, 1, 0, 1, 0, 0, 1, 1, 0, 0, 1, 1, 0, 0, 1, 0, 0, 1, 1, 0, 0,\n",
       "       0, 0, 0, 1, 1, 0, 1, 0, 0, 0, 0, 0, 1, 0, 1, 0, 0, 0, 1, 0, 1, 0,\n",
       "       0, 0, 0, 1, 0, 0, 1, 0, 1, 1, 1, 0, 0, 1, 0, 1, 0, 0, 1, 0, 0, 0,\n",
       "       1, 0, 0, 1, 0, 0, 0, 1, 1, 0, 0, 1, 0, 0, 0, 0, 1, 1, 1, 0, 1, 1,\n",
       "       0, 1, 1, 1, 0, 0, 0, 0, 1, 1, 0, 1, 1, 1, 1, 1, 1, 0, 1, 0, 1, 1,\n",
       "       1, 0, 0, 1, 0, 1, 0, 0, 1, 0, 1, 0, 1, 0, 0, 0, 1, 1, 0, 0, 1, 1,\n",
       "       0, 1, 1, 0, 1, 1], dtype=int64)"
      ]
     },
     "execution_count": 40,
     "metadata": {},
     "output_type": "execute_result"
    }
   ],
   "source": [
    "y_train"
   ]
  },
  {
   "cell_type": "code",
   "execution_count": 41,
   "id": "0ea88676",
   "metadata": {},
   "outputs": [
    {
     "data": {
      "text/plain": [
       "array([[   0,    0,    0, ...,  159,    4,   23],\n",
       "       [   0,    0,    0, ...,   48, 1484,  664],\n",
       "       [   0,    0,    0, ...,  100,   25,    5],\n",
       "       ...,\n",
       "       [   0,    0,    0, ...,    4,  896,  141],\n",
       "       [   0,    0,    0, ...,  605, 1291,   23],\n",
       "       [   0,    0,    0, ...,  478,  107,  328]])"
      ]
     },
     "execution_count": 41,
     "metadata": {},
     "output_type": "execute_result"
    }
   ],
   "source": [
    "X_test"
   ]
  },
  {
   "cell_type": "code",
   "execution_count": 42,
   "id": "f4842b67",
   "metadata": {},
   "outputs": [
    {
     "data": {
      "text/plain": [
       "array([1, 1, 1, 0, 1, 1, 0, 1, 0, 1, 1, 0, 1, 0, 1, 1, 1, 0, 1, 1, 1, 1,\n",
       "       1, 1, 0, 1, 0, 0, 1, 1, 0, 1, 0, 1, 0, 0, 0, 1, 0, 0, 0, 0, 1, 0,\n",
       "       0, 1, 1, 0, 0, 0, 0, 1, 1, 1, 1, 0, 0, 1, 0, 1, 1, 1, 0, 0, 0, 1,\n",
       "       1, 1, 0, 0, 1, 1, 0, 0, 1, 1, 0, 0, 0, 0, 1, 0, 1, 1, 0, 0, 0, 0,\n",
       "       1, 0, 0, 1, 1, 0, 1, 0, 0, 1, 0, 0, 1, 1, 0, 0, 1, 0, 0, 0, 0, 1,\n",
       "       0, 1, 0, 1, 1, 0, 0, 1, 1, 1, 1, 1, 1, 1, 1, 0, 1, 1, 1, 1, 1, 0,\n",
       "       1, 0, 1, 1, 1, 1, 1, 1, 1, 1, 1, 1, 0, 0, 0, 0, 1, 0, 1, 1, 1, 1,\n",
       "       1, 0, 0, 0, 0, 1, 0, 0, 1, 0, 1, 1, 0, 1, 0, 1, 0, 0, 1, 0, 0, 0,\n",
       "       0, 1, 1, 0, 0, 0, 0, 0, 0, 1, 0, 1, 0, 1, 1, 1, 0, 0, 1, 1, 1, 1,\n",
       "       1, 1], dtype=int64)"
      ]
     },
     "execution_count": 42,
     "metadata": {},
     "output_type": "execute_result"
    }
   ],
   "source": [
    "y_test"
   ]
  },
  {
   "cell_type": "code",
   "execution_count": 43,
   "id": "08773b61",
   "metadata": {},
   "outputs": [
    {
     "data": {
      "text/plain": [
       "array([[   0,    0,    0, ..., 1469,  106, 1470],\n",
       "       [   0,    0,    0, ...,   24,  360,  813],\n",
       "       [   0,    0,    0, ...,  456,  209,  262],\n",
       "       ...,\n",
       "       [   0,    0,    0, ...,  816,   27,  364],\n",
       "       [   0,    0,    0, ...,  205,   67,  170],\n",
       "       [   0,    0,    0, ...,   70,  585,  242]])"
      ]
     },
     "execution_count": 43,
     "metadata": {},
     "output_type": "execute_result"
    }
   ],
   "source": [
    "X_val"
   ]
  },
  {
   "cell_type": "code",
   "execution_count": 44,
   "id": "8ac0da02",
   "metadata": {},
   "outputs": [
    {
     "data": {
      "text/plain": [
       "array([1, 0, 0, 0, 0, 0, 1, 0, 1, 0, 0, 1, 1, 1, 1, 0, 1, 1, 1, 1, 0, 0,\n",
       "       1, 1, 1, 0, 1, 0, 1, 0, 0, 0, 1, 0, 1, 0, 1, 0, 0, 0, 0, 0, 0, 1,\n",
       "       1, 0, 0, 0, 1, 1, 0, 1, 0, 1, 1, 0, 1, 1, 0, 1, 0, 1, 0, 0, 1, 1,\n",
       "       0, 1, 0, 1, 1, 1, 0, 0, 0, 0, 1, 1, 0, 0, 1, 0, 0, 1, 1, 0, 1, 0,\n",
       "       0, 0, 1, 1, 0, 0, 1, 1, 0, 0, 1, 0, 1, 1, 1, 0, 1, 0, 0, 1, 1, 1,\n",
       "       0, 0, 0, 0, 1, 1, 0, 1, 0, 0, 1, 1, 1, 1, 1, 0, 0, 1, 1, 0, 0, 1,\n",
       "       1, 0, 1, 0, 1, 0, 1, 1, 1, 0, 0, 1, 1, 1, 0, 0, 0, 0, 0, 0, 1, 1,\n",
       "       0, 1, 0, 1, 0, 1, 1, 0, 0, 1, 0, 0, 0, 0, 1, 1, 0, 1, 1, 0, 0, 0,\n",
       "       1, 1, 0, 0, 0, 0, 1, 0, 0, 0, 1, 0, 1, 1, 0, 1, 1, 0, 1, 1, 0, 1,\n",
       "       0, 0], dtype=int64)"
      ]
     },
     "execution_count": 44,
     "metadata": {},
     "output_type": "execute_result"
    }
   ],
   "source": [
    "y_val"
   ]
  },
  {
   "cell_type": "code",
   "execution_count": 45,
   "id": "75276750",
   "metadata": {},
   "outputs": [
    {
     "data": {
      "text/plain": [
       "(600, 16)"
      ]
     },
     "execution_count": 45,
     "metadata": {},
     "output_type": "execute_result"
    }
   ],
   "source": [
    "X_train.shape"
   ]
  },
  {
   "cell_type": "code",
   "execution_count": 46,
   "id": "1ace743c",
   "metadata": {},
   "outputs": [
    {
     "data": {
      "text/plain": [
       "((600, 16), (200, 16), (200, 16), (600,), (200,), (200,))"
      ]
     },
     "execution_count": 46,
     "metadata": {},
     "output_type": "execute_result"
    }
   ],
   "source": [
    "X_train.shape, X_val.shape, X_test.shape, y_train.shape, y_val.shape, y_test.shape"
   ]
  },
  {
   "cell_type": "markdown",
   "id": "015cc6e2",
   "metadata": {},
   "source": [
    "### Cleaned Dataset  "
   ]
  },
  {
   "cell_type": "code",
   "execution_count": 47,
   "id": "ef6363df",
   "metadata": {},
   "outputs": [],
   "source": [
    "# Extract the training data in CSV format \n",
    "pd.DataFrame(X_train).to_csv('X_train_Task2.csv', index=False)\n",
    "pd.DataFrame(y_train).to_csv('y_train_Task2.csv', index=False)\n",
    "\n",
    "# Extract the validation data in CSV format \n",
    "pd.DataFrame(X_val).to_csv('X_val_Task2.csv', index=False)\n",
    "pd.DataFrame(y_val).to_csv('y_val_Task2.csv', index=False)\n",
    "\n",
    "# Extract the testing data in CSV format \n",
    "pd.DataFrame(X_test).to_csv('X_test_Task2.csv', index=False)\n",
    "pd.DataFrame(y_test).to_csv('y_test_Task2.csv', index=False)"
   ]
  },
  {
   "cell_type": "markdown",
   "id": "e1fd3537",
   "metadata": {},
   "source": [
    "### Creating the LSTM Model"
   ]
  },
  {
   "cell_type": "code",
   "execution_count": 48,
   "id": "68bee551",
   "metadata": {},
   "outputs": [
    {
     "data": {
      "text/plain": [
       "1750"
      ]
     },
     "execution_count": 48,
     "metadata": {},
     "output_type": "execute_result"
    }
   ],
   "source": [
    "len(word_index)"
   ]
  },
  {
   "cell_type": "code",
   "execution_count": 49,
   "id": "57b53cf8",
   "metadata": {},
   "outputs": [
    {
     "data": {
      "text/plain": [
       "36"
      ]
     },
     "execution_count": 49,
     "metadata": {},
     "output_type": "execute_result"
    }
   ],
   "source": [
    "embedding_length"
   ]
  },
  {
   "cell_type": "code",
   "execution_count": 50,
   "id": "a378c1e6",
   "metadata": {},
   "outputs": [
    {
     "data": {
      "text/plain": [
       "16"
      ]
     },
     "execution_count": 50,
     "metadata": {},
     "output_type": "execute_result"
    }
   ],
   "source": [
    "max_sequence_length"
   ]
  },
  {
   "cell_type": "code",
   "execution_count": 51,
   "id": "e422ac45",
   "metadata": {},
   "outputs": [],
   "source": [
    "# Instantiate a sequential model\n",
    "\n",
    "embedding_dim = embedding_length\n",
    "\n",
    "model = Sequential()\n",
    "model.add(Embedding(len(word_index) + 1, embedding_dim, input_length=max_sequence_length))\n",
    "model.add(LSTM(128, return_sequences=True))\n",
    "model.add(LSTM(64))\n",
    "model.add(Dense(64, activation='relu'))\n",
    "model.add(Dense(32, activation='relu'))\n",
    "model.add(Dense(1, activation='sigmoid'))"
   ]
  },
  {
   "cell_type": "code",
   "execution_count": 52,
   "id": "6b0df4c0",
   "metadata": {},
   "outputs": [],
   "source": [
    "model.compile(loss='binary_crossentropy', optimizer='adam', metrics=['accuracy'])"
   ]
  },
  {
   "cell_type": "code",
   "execution_count": 53,
   "id": "ebd2905c",
   "metadata": {},
   "outputs": [
    {
     "name": "stdout",
     "output_type": "stream",
     "text": [
      "Model: \"sequential\"\n",
      "_________________________________________________________________\n",
      " Layer (type)                Output Shape              Param #   \n",
      "=================================================================\n",
      " embedding (Embedding)       (None, 16, 36)            63036     \n",
      "                                                                 \n",
      " lstm (LSTM)                 (None, 16, 128)           84480     \n",
      "                                                                 \n",
      " lstm_1 (LSTM)               (None, 64)                49408     \n",
      "                                                                 \n",
      " dense (Dense)               (None, 64)                4160      \n",
      "                                                                 \n",
      " dense_1 (Dense)             (None, 32)                2080      \n",
      "                                                                 \n",
      " dense_2 (Dense)             (None, 1)                 33        \n",
      "                                                                 \n",
      "=================================================================\n",
      "Total params: 203,197\n",
      "Trainable params: 203,197\n",
      "Non-trainable params: 0\n",
      "_________________________________________________________________\n"
     ]
    }
   ],
   "source": [
    "model.summary()"
   ]
  },
  {
   "cell_type": "markdown",
   "id": "0fa1c84c",
   "metadata": {},
   "source": [
    "### Train the LSTM model using the training data"
   ]
  },
  {
   "cell_type": "code",
   "execution_count": 54,
   "id": "4d4e4abe",
   "metadata": {},
   "outputs": [],
   "source": [
    "# Define EarlyStopping callback\n",
    "early_stopping = EarlyStopping(monitor='val_accuracy', patience=3)"
   ]
  },
  {
   "cell_type": "code",
   "execution_count": 55,
   "id": "e8807f0d",
   "metadata": {},
   "outputs": [
    {
     "name": "stdout",
     "output_type": "stream",
     "text": [
      "Epoch 1/15\n",
      "10/10 [==============================] - 6s 157ms/step - loss: 0.6932 - accuracy: 0.5167 - val_loss: 0.6921 - val_accuracy: 0.5200\n",
      "Epoch 2/15\n",
      "10/10 [==============================] - 0s 41ms/step - loss: 0.6906 - accuracy: 0.5700 - val_loss: 0.6893 - val_accuracy: 0.6150\n",
      "Epoch 3/15\n",
      "10/10 [==============================] - 0s 35ms/step - loss: 0.6796 - accuracy: 0.6533 - val_loss: 0.6761 - val_accuracy: 0.6250\n",
      "Epoch 4/15\n",
      "10/10 [==============================] - 0s 39ms/step - loss: 0.6128 - accuracy: 0.7917 - val_loss: 0.6142 - val_accuracy: 0.7200\n",
      "Epoch 5/15\n",
      "10/10 [==============================] - 0s 39ms/step - loss: 0.4178 - accuracy: 0.8500 - val_loss: 0.5635 - val_accuracy: 0.6750\n",
      "Epoch 6/15\n",
      "10/10 [==============================] - 0s 36ms/step - loss: 0.2974 - accuracy: 0.8767 - val_loss: 0.5768 - val_accuracy: 0.6600\n",
      "Epoch 7/15\n",
      "10/10 [==============================] - 0s 40ms/step - loss: 0.1901 - accuracy: 0.9333 - val_loss: 0.5344 - val_accuracy: 0.7650\n",
      "Epoch 8/15\n",
      "10/10 [==============================] - 0s 38ms/step - loss: 0.0849 - accuracy: 0.9800 - val_loss: 0.6810 - val_accuracy: 0.7750\n",
      "Epoch 9/15\n",
      "10/10 [==============================] - 0s 35ms/step - loss: 0.0485 - accuracy: 0.9850 - val_loss: 0.7883 - val_accuracy: 0.7150\n",
      "Epoch 10/15\n",
      "10/10 [==============================] - 0s 37ms/step - loss: 0.0253 - accuracy: 0.9933 - val_loss: 0.8309 - val_accuracy: 0.7700\n",
      "Epoch 11/15\n",
      "10/10 [==============================] - 0s 35ms/step - loss: 0.0124 - accuracy: 0.9967 - val_loss: 0.9628 - val_accuracy: 0.7450\n"
     ]
    }
   ],
   "source": [
    "num_epochs = 15\n",
    "batch_size = 64\n",
    "results = model.fit(X_train, y_train, epochs=num_epochs, batch_size=batch_size, validation_data=(X_val, y_val),\n",
    "                    callbacks=[early_stopping])"
   ]
  },
  {
   "cell_type": "code",
   "execution_count": 56,
   "id": "9d7a12fd",
   "metadata": {},
   "outputs": [
    {
     "data": {
      "text/plain": [
       "{'loss': [0.6932420134544373,\n",
       "  0.6906256675720215,\n",
       "  0.6795720458030701,\n",
       "  0.6127599477767944,\n",
       "  0.41776618361473083,\n",
       "  0.2974136471748352,\n",
       "  0.19006846845149994,\n",
       "  0.08491211384534836,\n",
       "  0.04854964092373848,\n",
       "  0.02525251917541027,\n",
       "  0.012444114312529564],\n",
       " 'accuracy': [0.5166666507720947,\n",
       "  0.5699999928474426,\n",
       "  0.653333306312561,\n",
       "  0.7916666865348816,\n",
       "  0.8500000238418579,\n",
       "  0.8766666650772095,\n",
       "  0.9333333373069763,\n",
       "  0.9800000190734863,\n",
       "  0.9850000143051147,\n",
       "  0.9933333396911621,\n",
       "  0.996666669845581],\n",
       " 'val_loss': [0.6921133995056152,\n",
       "  0.6892898082733154,\n",
       "  0.6761240363121033,\n",
       "  0.6142022609710693,\n",
       "  0.5635402202606201,\n",
       "  0.5768404603004456,\n",
       "  0.5344261527061462,\n",
       "  0.6809774041175842,\n",
       "  0.7883343696594238,\n",
       "  0.8308792114257812,\n",
       "  0.9628426432609558],\n",
       " 'val_accuracy': [0.5199999809265137,\n",
       "  0.6150000095367432,\n",
       "  0.625,\n",
       "  0.7200000286102295,\n",
       "  0.675000011920929,\n",
       "  0.6600000262260437,\n",
       "  0.7649999856948853,\n",
       "  0.7749999761581421,\n",
       "  0.7149999737739563,\n",
       "  0.7699999809265137,\n",
       "  0.7450000047683716]}"
      ]
     },
     "execution_count": 56,
     "metadata": {},
     "output_type": "execute_result"
    }
   ],
   "source": [
    "results.history"
   ]
  },
  {
   "cell_type": "code",
   "execution_count": 57,
   "id": "5c006628",
   "metadata": {},
   "outputs": [
    {
     "data": {
      "text/plain": [
       "[0.5166666507720947,\n",
       " 0.5699999928474426,\n",
       " 0.653333306312561,\n",
       " 0.7916666865348816,\n",
       " 0.8500000238418579,\n",
       " 0.8766666650772095,\n",
       " 0.9333333373069763,\n",
       " 0.9800000190734863,\n",
       " 0.9850000143051147,\n",
       " 0.9933333396911621,\n",
       " 0.996666669845581]"
      ]
     },
     "execution_count": 57,
     "metadata": {},
     "output_type": "execute_result"
    }
   ],
   "source": [
    "# predictive accuracy of the training data\n",
    "train_accuracy = results.history['accuracy']\n",
    "train_accuracy"
   ]
  },
  {
   "cell_type": "code",
   "execution_count": 58,
   "id": "cbc82953",
   "metadata": {},
   "outputs": [
    {
     "data": {
      "image/png": "[encoded data removed]",
      "text/plain": [
       "<Figure size 640x480 with 1 Axes>"
      ]
     },
     "metadata": {},
     "output_type": "display_data"
    },
    {
     "data": {
      "image/png": "[encoded data removed]",
      "text/plain": [
       "<Figure size 640x480 with 1 Axes>"
      ]
     },
     "metadata": {},
     "output_type": "display_data"
    }
   ],
   "source": [
    "# Plot training and validation accuracy\n",
    "plt.plot(results.history['accuracy'])\n",
    "plt.plot(results.history['val_accuracy'])\n",
    "plt.title('Model Accuracy')\n",
    "plt.xlabel('Epoch')\n",
    "plt.ylabel('Accuracy')\n",
    "plt.legend(['Train', 'Validation'], loc='upper left')\n",
    "plt.show()\n",
    "\n",
    "# Plot training and validation loss\n",
    "plt.plot(results.history['loss'])\n",
    "plt.plot(results.history['val_loss'])\n",
    "plt.title('Model Loss')\n",
    "plt.xlabel('Epoch')\n",
    "plt.ylabel('Loss')\n",
    "plt.legend(['Train', 'Validation'], loc='upper left')\n",
    "plt.show()"
   ]
  },
  {
   "cell_type": "markdown",
   "id": "fa715937",
   "metadata": {},
   "source": [
    "### Save the model "
   ]
  },
  {
   "cell_type": "code",
   "execution_count": 59,
   "id": "e9173177",
   "metadata": {},
   "outputs": [],
   "source": [
    "model.save(\"LSTM_sentiment_analysis_model.h5\")"
   ]
  },
  {
   "cell_type": "code",
   "execution_count": 60,
   "id": "ef6cf6d6",
   "metadata": {},
   "outputs": [],
   "source": [
    "# load the model (just to check)\n",
    "from tensorflow.keras.models import load_model\n",
    "\n",
    "# Load the saved model\n",
    "loaded_model = load_model(\"LSTM_sentiment_analysis_model.h5\")"
   ]
  },
  {
   "cell_type": "code",
   "execution_count": 61,
   "id": "195cc5af",
   "metadata": {},
   "outputs": [
    {
     "name": "stdout",
     "output_type": "stream",
     "text": [
      "Model: \"sequential\"\n",
      "_________________________________________________________________\n",
      " Layer (type)                Output Shape              Param #   \n",
      "=================================================================\n",
      " embedding (Embedding)       (None, 16, 36)            63036     \n",
      "                                                                 \n",
      " lstm (LSTM)                 (None, 16, 128)           84480     \n",
      "                                                                 \n",
      " lstm_1 (LSTM)               (None, 64)                49408     \n",
      "                                                                 \n",
      " dense (Dense)               (None, 64)                4160      \n",
      "                                                                 \n",
      " dense_1 (Dense)             (None, 32)                2080      \n",
      "                                                                 \n",
      " dense_2 (Dense)             (None, 1)                 33        \n",
      "                                                                 \n",
      "=================================================================\n",
      "Total params: 203,197\n",
      "Trainable params: 203,197\n",
      "Non-trainable params: 0\n",
      "_________________________________________________________________\n"
     ]
    }
   ],
   "source": [
    "loaded_model.summary()"
   ]
  },
  {
   "cell_type": "markdown",
   "id": "916fc996",
   "metadata": {},
   "source": [
    "### Evaluating the Model"
   ]
  },
  {
   "cell_type": "code",
   "execution_count": 62,
   "id": "3f41f8ef",
   "metadata": {},
   "outputs": [
    {
     "name": "stdout",
     "output_type": "stream",
     "text": [
      "7/7 [==============================] - 0s 9ms/step - loss: 0.8533 - accuracy: 0.8100\n",
      "Test Loss: 0.8533172011375427\n",
      "Test Accuracy: 0.8100000023841858\n"
     ]
    }
   ],
   "source": [
    "## Evaluate the model on the test data\n",
    "loss, accuracy = model.evaluate(X_test, y_test)\n",
    "print('Test Loss:', loss)\n",
    "print('Test Accuracy:', accuracy)"
   ]
  },
  {
   "cell_type": "markdown",
   "id": "c947c4a1",
   "metadata": {},
   "source": [
    "**Result :** The test accuracy of 0.810 indicates that the trained model achieved an accuracy of approximately 81% on the test dataset."
   ]
  },
  {
   "cell_type": "markdown",
   "id": "0a694f49",
   "metadata": {},
   "source": [
    "### Confusion Matrix"
   ]
  },
  {
   "cell_type": "code",
   "execution_count": 63,
   "id": "3da5e941",
   "metadata": {},
   "outputs": [
    {
     "name": "stdout",
     "output_type": "stream",
     "text": [
      "7/7 [==============================] - 1s 9ms/step\n"
     ]
    }
   ],
   "source": [
    "# Calculate y prediction on unseen data \n",
    "y_pred = model.predict(X_test)\n",
    "y_pred = (y_pred > 0.5).astype(int)  # Convert probabilities to binary predictions"
   ]
  },
  {
   "cell_type": "code",
   "execution_count": 64,
   "id": "650ed3d9",
   "metadata": {},
   "outputs": [
    {
     "name": "stdout",
     "output_type": "stream",
     "text": [
      "Confusion matrix\n",
      "\n",
      " [[83 10]\n",
      " [28 79]]\n",
      "\n",
      "True Positives(TP) =  83\n",
      "\n",
      "True Negatives(TN) =  79\n",
      "\n",
      "False Positives(FP) =  10\n",
      "\n",
      "False Negatives(FN) =  28\n"
     ]
    },
    {
     "data": {
      "text/plain": [
       "<AxesSubplot:>"
      ]
     },
     "execution_count": 64,
     "metadata": {},
     "output_type": "execute_result"
    },
    {
     "data": {
      "image/png": "[encoded data removed]",
      "text/plain": [
       "<Figure size 640x480 with 2 Axes>"
      ]
     },
     "metadata": {},
     "output_type": "display_data"
    }
   ],
   "source": [
    "# Print the Confusion Matrix and slice it into four pieces\n",
    "\n",
    "cm = confusion_matrix(y_test, y_pred)\n",
    "\n",
    "print('Confusion matrix\\n\\n', cm)\n",
    "\n",
    "print('\\nTrue Positives(TP) = ', cm[0,0])\n",
    "\n",
    "print('\\nTrue Negatives(TN) = ', cm[1,1])\n",
    "\n",
    "print('\\nFalse Positives(FP) = ', cm[0,1])\n",
    "\n",
    "print('\\nFalse Negatives(FN) = ', cm[1,0])\n",
    "\n",
    "# visualize confusion matrix with seaborn heatmap\n",
    "\n",
    "cm_matrix = pd.DataFrame(data=cm, columns=['Actual Positive:1', 'Actual Negative:0'], \n",
    "                                 index=['Predict Positive:1', 'Predict Negative:0'])\n",
    "\n",
    "sns.heatmap(cm_matrix, annot=True, fmt='d', cmap='YlGnBu')"
   ]
  },
  {
   "cell_type": "markdown",
   "id": "c7812ecb",
   "metadata": {},
   "source": [
    "**Results :**\n",
    "\n",
    "The model correctly predicted 79 instances as positive (True Positives) along with 80 instances as negative (True Negatives).\n",
    "Also, the model incorrectly predicted 14 instances as positive when they were actually negative (False Positives) and 27 instances as negative when they were actually positive (False Negatives).\n"
   ]
  },
  {
   "cell_type": "code",
   "execution_count": 65,
   "id": "e4dcbff6",
   "metadata": {},
   "outputs": [
    {
     "name": "stdout",
     "output_type": "stream",
     "text": [
      "Precision: 0.8876404494382022\n",
      "Recall: 0.7383177570093458\n",
      "F1-score: 0.8061224489795918\n"
     ]
    }
   ],
   "source": [
    "# calculate the evaluation metrics \n",
    "precision = precision_score(y_test, y_pred)\n",
    "recall = recall_score(y_test, y_pred)\n",
    "f1score = f1_score(y_test, y_pred)\n",
    "\n",
    "print(\"Precision:\", precision)\n",
    "print(\"Recall:\", recall)\n",
    "print(\"F1-score:\", f1score)"
   ]
  },
  {
   "cell_type": "markdown",
   "id": "3a6ca9b3",
   "metadata": {},
   "source": [
    "### Prediction on new data"
   ]
  },
  {
   "cell_type": "code",
   "execution_count": 66,
   "id": "44f97103",
   "metadata": {},
   "outputs": [
    {
     "name": "stdout",
     "output_type": "stream",
     "text": [
      "1/1 [==============================] - 0s 20ms/step\n",
      "Predicted Sentiment: Positive\n"
     ]
    }
   ],
   "source": [
    "# Example prediction on new data\n",
    "new_text = ['This product is amazing!']\n",
    "new_text = [re.sub('[^a-zA-Z]', ' ', text) for text in new_text]\n",
    "new_sequences = tokenizer.texts_to_sequences(new_text)\n",
    "new_sequences = pad_sequences(new_sequences, maxlen=max_sequence_length)\n",
    "prediction = model.predict(new_sequences)\n",
    "\n",
    "# Convert the probability to a class label\n",
    "predicted_sentiment = \"Positive\" if prediction > 0.5 else \"Negative\"\n",
    "\n",
    "# Print the predicted sentiment\n",
    "print(\"Predicted Sentiment:\", predicted_sentiment)"
   ]
  },
  {
   "cell_type": "code",
   "execution_count": 67,
   "id": "dcbdc445",
   "metadata": {},
   "outputs": [
    {
     "name": "stdout",
     "output_type": "stream",
     "text": [
      "1/1 [==============================] - 0s 21ms/step\n",
      "Predicted Sentiment: Negative\n"
     ]
    }
   ],
   "source": [
    "# Example prediction on new data\n",
    "# new_text = ['not recomended rediculas!']\n",
    "new_text = ['i am not happy with this procuct!']\n",
    "new_text = [re.sub('[^a-zA-Z]', ' ', text) for text in new_text]\n",
    "new_sequences = tokenizer.texts_to_sequences(new_text)\n",
    "new_sequences = pad_sequences(new_sequences, maxlen=max_sequence_length)\n",
    "prediction = model.predict(new_sequences)\n",
    "\n",
    "# Convert the probability to a class label\n",
    "predicted_sentiment = \"Positive\" if prediction > 0.5 else \"Negative\"\n",
    "\n",
    "# Print the predicted sentiment\n",
    "print(\"Predicted Sentiment:\", predicted_sentiment)"
   ]
  },
  {
   "cell_type": "markdown",
   "id": "1eca536b",
   "metadata": {},
   "source": [
    "**Results:** Based on these results we can say that the model is correctly predicting customer sentiment. "
   ]
  },
  {
   "cell_type": "markdown",
   "id": "ee397108",
   "metadata": {},
   "source": [
    "**References -** \n",
    "\n",
    "Parikh, A. B. (n.d.). Machine Learning & Deep Learning in Python & R.\n",
    "https://wgu.udemy.com/course/data_science_a_to_z/learn/lecture/20811912#overview\n",
    "\n",
    "WGU, R. (n.d.). D213 Sentiment Analysis I.\n",
    "https://wgu.hosted.panopto.com/Panopto/Pages/Viewer.aspx?id=a1e9802c-5808-4287-a7e5-aed601580d89\n",
    "\n",
    "Resources, W. (n.d.). D213 T2 May 15 22.\n",
    "https://wgu.hosted.panopto.com/Panopto/Pages/Viewer.aspx?id=cedbd86a-2543-4d9d-9b0e-aec4011a606d\n",
    "\n",
    "Terry-Jack, M. (2019, Apr 21). NLP: Everything about Embeddings.\n",
    "https://medium.com/@b.terryjack/nlp-everything-about-word-embeddings-9ea21f51ccfe\n"
   ]
  }
 ],
 "metadata": {
  "kernelspec": {
   "display_name": "Python 3 (ipykernel)",
   "language": "python",
   "name": "python3"
  },
  "language_info": {
   "codemirror_mode": {
    "name": "ipython",
    "version": 3
   },
   "file_extension": ".py",
   "mimetype": "text/x-python",
   "name": "python",
   "nbconvert_exporter": "python",
   "pygments_lexer": "ipython3",
   "version": "3.9.13"
  }
 },
 "nbformat": 4,
 "nbformat_minor": 5
}
